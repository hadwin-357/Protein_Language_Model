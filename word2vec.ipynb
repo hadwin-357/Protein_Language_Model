{
  "nbformat": 4,
  "nbformat_minor": 0,
  "metadata": {
    "colab": {
      "provenance": [],
      "authorship_tag": "ABX9TyPyYZFbOGYOjMMLEHuQoEY4",
      "include_colab_link": true
    },
    "kernelspec": {
      "name": "python3",
      "display_name": "Python 3"
    },
    "language_info": {
      "name": "python"
    }
  },
  "cells": [
    {
      "cell_type": "markdown",
      "metadata": {
        "id": "view-in-github",
        "colab_type": "text"
      },
      "source": [
        "<a href=\"https://colab.research.google.com/github/hadwin-357/Protein_Language_Model/blob/main/word2vec.ipynb\" target=\"_parent\"><img src=\"https://colab.research.google.com/assets/colab-badge.svg\" alt=\"Open In Colab\"/></a>"
      ]
    },
    {
      "cell_type": "code",
      "execution_count": 1,
      "metadata": {
        "id": "IMzYEGvCHQMC"
      },
      "outputs": [],
      "source": [
        "# Basic template from http://pytorch.org/tutorials/beginner/nlp/word_embeddings_tutorial.html\n",
        "\n",
        "import torch\n",
        "import torch.nn as nn\n",
        "import torch.autograd as autograd\n",
        "import torch.optim as optim\n",
        "import torch.nn.functional as F"
      ]
    },
    {
      "cell_type": "code",
      "source": [
        "#simple example, initial word with random embedding\n",
        "word_to_ix = {\"hello\": 0, \"world\": 1}\n",
        "embeds = nn.Embedding(2, 5)  # 2 words in vocab, 5 dimensional embeddings\n",
        "lookup_tensor = torch.tensor([word_to_ix[\"world\"]], dtype=torch.long)\n",
        "hello_embed = embeds(lookup_tensor)\n",
        "print(hello_embed)"
      ],
      "metadata": {
        "colab": {
          "base_uri": "https://localhost:8080/"
        },
        "id": "YGq5UTCXHaG2",
        "outputId": "2e665297-8b09-4c12-c9fa-54d6f597f40c"
      },
      "execution_count": 3,
      "outputs": [
        {
          "output_type": "stream",
          "name": "stdout",
          "text": [
            "tensor([[ 0.8574, -1.4671,  0.2248, -0.5640, -0.2610]],\n",
            "       grad_fn=<EmbeddingBackward0>)\n"
          ]
        }
      ]
    },
    {
      "cell_type": "code",
      "source": [
        "#For N-gram language model problem, we need to calculate P(wi |wi-1, wi-2,...,wi-n+1) meaning based previous N words to predict next one\n",
        "CONTEXT_SIZE =4\n",
        "EMBEDDING_DIM = 10\n",
        "# We will use Shakespeare Sonnet 2\n",
        "test_sentence = \"\"\"When forty winters shall besiege thy brow,\n",
        "And dig deep trenches in thy beauty's field,\n",
        "Thy youth's proud livery so gazed on now,\n",
        "Will be a totter'd weed of small worth held:\n",
        "Then being asked, where all thy beauty lies,\n",
        "Where all the treasure of thy lusty days;\n",
        "To say, within thine own deep sunken eyes,\n",
        "Were an all-eating shame, and thriftless praise.\n",
        "How much more praise deserv'd thy beauty's use,\n",
        "If thou couldst answer 'This fair child of mine\n",
        "Shall sum my count, and make my old excuse,'\n",
        "Proving his beauty by succession thine!\n",
        "This were to be new made when thou art old,\n",
        "And see thy blood warm when thou feel'st it cold.\"\"\".split()\n",
        "# we should tokenize the input, but we will ignore that for now\n",
        "# build a list of tuples.\n",
        "# Each tuple is ([ word_i-CONTEXT_SIZE, ..., word_i-1 ], target word)\n",
        "ngrams = [\n",
        "    (\n",
        "        [test_sentence[i - j - 1] for j in range(CONTEXT_SIZE)],\n",
        "        test_sentence[i]\n",
        "    )\n",
        "    for i in range(CONTEXT_SIZE, len(test_sentence))\n",
        "]\n",
        "# Print the first 3, just so you can see what they look like.\n",
        "print(ngrams[:3])\n"
      ],
      "metadata": {
        "colab": {
          "base_uri": "https://localhost:8080/"
        },
        "id": "Gb0WCYiWHmVO",
        "outputId": "f7c5f62f-b051-4119-8be5-216a209eb4ac"
      },
      "execution_count": 5,
      "outputs": [
        {
          "output_type": "stream",
          "name": "stdout",
          "text": [
            "[(['shall', 'winters', 'forty', 'When'], 'besiege'), (['besiege', 'shall', 'winters', 'forty'], 'thy'), (['thy', 'besiege', 'shall', 'winters'], 'brow,')]\n"
          ]
        }
      ]
    },
    {
      "cell_type": "code",
      "source": [
        "#turn words into tokens\n",
        "vocab = set(test_sentence)  #unique words\n",
        "word_to_ix = {word: i for i, word in enumerate(vocab)}\n",
        "print(len(vocab))"
      ],
      "metadata": {
        "colab": {
          "base_uri": "https://localhost:8080/"
        },
        "id": "Z5_pAalIJE-g",
        "outputId": "a23f4efe-d193-4f9e-a1a0-00e81ab06bb8"
      },
      "execution_count": 9,
      "outputs": [
        {
          "output_type": "stream",
          "name": "stdout",
          "text": [
            "97\n"
          ]
        }
      ]
    },
    {
      "cell_type": "code",
      "source": [
        "#Ngram model\n",
        "#vocab_size\n",
        "\n",
        "class NGramLanguageModeler(nn.Module):\n",
        "\n",
        "    def __init__(self, vocab_size, embedding_dim, context_size):\n",
        "        super(NGramLanguageModeler, self).__init__()\n",
        "        self.embeddings = nn.Embedding(vocab_size, embedding_dim)\n",
        "        self.linear1 = nn.Linear(context_size * embedding_dim, 128)\n",
        "        self.linear2 = nn.Linear(128, vocab_size)\n",
        "\n",
        "    def forward(self, inputs):\n",
        "        embeds = self.embeddings(inputs).view((1, -1))\n",
        "        out = F.relu(self.linear1(embeds))\n",
        "        out = self.linear2(out)\n",
        "        log_probs = F.log_softmax(out, dim=1)\n",
        "        return log_probs"
      ],
      "metadata": {
        "id": "NHoAROPrK8xz"
      },
      "execution_count": 7,
      "outputs": []
    },
    {
      "cell_type": "code",
      "source": [
        "losses = []  #store loss\n",
        "loss_function = nn.NLLLoss()  # use negative log likelihood for loss for C classes classification\n",
        "model = NGramLanguageModeler(len(vocab), EMBEDDING_DIM, CONTEXT_SIZE)\n",
        "optimizer = optim.SGD(model.parameters(), lr=0.001)\n",
        "model"
      ],
      "metadata": {
        "colab": {
          "base_uri": "https://localhost:8080/"
        },
        "id": "OQUMm3ARLir7",
        "outputId": "8b841f30-475f-4f0f-a338-6721b3df746a"
      },
      "execution_count": 8,
      "outputs": [
        {
          "output_type": "execute_result",
          "data": {
            "text/plain": [
              "NGramLanguageModeler(\n",
              "  (embeddings): Embedding(97, 10)\n",
              "  (linear1): Linear(in_features=40, out_features=128, bias=True)\n",
              "  (linear2): Linear(in_features=128, out_features=97, bias=True)\n",
              ")"
            ]
          },
          "metadata": {},
          "execution_count": 8
        }
      ]
    },
    {
      "cell_type": "code",
      "source": [
        "#train 10 epochs to get updated embeddding\n",
        "for epoch in range(100):\n",
        "    total_loss = 0\n",
        "    for context, target in ngrams:\n",
        "      #word to id\n",
        "      context_idxs=torch.tensor([word_to_ix[word] for word in context], dtype=torch.long)\n",
        "\n",
        "      #\n",
        "      model.zero_grad()\n",
        "      # run the forward pass\n",
        "      log_probs=model(context_idxs)\n",
        "      #calculate loss\n",
        "      loss=loss_function(log_probs, torch.tensor([word_to_ix[target]], dtype=torch.long))\n",
        "      #backward pass\n",
        "      loss.backward()\n",
        "      optimizer.step()\n",
        "\n",
        "      #accumlate loss\n",
        "      total_loss+=loss.item()\n",
        "\n",
        "    losses.append(total_loss)\n",
        "print([losses[i:i+10] for i in range(0, len(losses), 10)])"
      ],
      "metadata": {
        "colab": {
          "base_uri": "https://localhost:8080/"
        },
        "id": "ghznuiWzL_50",
        "outputId": "30bd74e1-cc88-4a4d-f9a0-630c07260d9c"
      },
      "execution_count": 11,
      "outputs": [
        {
          "output_type": "stream",
          "name": "stdout",
          "text": [
            "[[514.0127351284027, 511.0838289260864, 508.17943716049194, 505.2962031364441, 502.43221521377563, 499.5862486362457, 496.7554974555969, 493.93602657318115, 491.12773728370667, 488.32742381095886], [485.5379807949066, 482.75587272644043, 479.9818994998932, 477.2129735946655, 474.4465823173523, 471.68224596977234, 468.9203290939331, 466.1556191444397, 463.38957810401917, 460.61987566947937], [457.8502745628357, 455.0769956111908, 452.30245065689087, 449.5209069252014, 446.7336826324463, 443.9388825893402, 441.13389444351196, 438.323605298996, 435.50444293022156, 432.6759443283081], [429.8401737213135, 426.9927637577057, 424.13128328323364, 421.25888752937317, 418.3757655620575, 415.479421377182, 412.5707688331604, 409.6470694541931, 406.70846366882324, 403.75625002384186], [400.78994059562683, 397.8087764978409, 394.8140366077423, 391.799050450325, 388.76966524124146, 385.7201861143112, 382.65227019786835, 379.566859126091, 376.46604239940643, 373.35042810440063], [370.2136745452881, 367.064661026001, 363.8953778743744, 360.71414959430695, 357.51383900642395, 354.30241072177887, 351.07271349430084, 347.8240776062012, 344.56282901763916, 341.2846579551697], [337.9908493757248, 334.6866915822029, 331.36407351493835, 328.02758038043976, 324.678060233593, 321.3180696964264, 317.94518834352493, 314.5597676038742, 311.1643717288971, 307.75854206085205], [304.34276390075684, 300.91461604833603, 297.47777849435806, 294.0296087861061, 290.57198345661163, 287.10534620285034, 283.635812997818, 280.15596613287926, 276.67167696356773, 273.18352550268173], [269.68531650304794, 266.18769332766533, 262.6844111979008, 259.1783072054386, 255.67044857144356, 252.15949267148972, 248.6519811451435, 245.15024921298027, 241.64872479438782, 238.15357640385628], [234.66652956604958, 231.18280631303787, 227.70702412724495, 224.24428606033325, 220.78958220779896, 217.34712199866772, 213.91714565455914, 210.49953632056713, 207.09911000728607, 203.71037136018276], [200.34331145882607, 196.99347500503063, 193.66605101525784, 190.3570223003626, 187.07633006572723, 183.8163761794567, 180.58328865468502, 177.37902583181858, 174.19960102438927, 171.0490286052227]]\n"
          ]
        }
      ]
    },
    {
      "cell_type": "code",
      "source": [
        "# show updated embedding\n",
        "print(model.embeddings.weight[word_to_ix[\"beauty\"]])"
      ],
      "metadata": {
        "colab": {
          "base_uri": "https://localhost:8080/"
        },
        "id": "njW_MxMtSBY0",
        "outputId": "59494b05-1151-402d-81d3-8591189832db"
      },
      "execution_count": 12,
      "outputs": [
        {
          "output_type": "stream",
          "name": "stdout",
          "text": [
            "tensor([ 1.8517,  1.4112, -1.0225,  1.2978,  0.4566,  0.7078, -0.2010,  0.6162,\n",
            "         0.7890, -1.1715], grad_fn=<SelectBackward0>)\n"
          ]
        }
      ]
    },
    {
      "cell_type": "code",
      "source": [
        "#excise\n",
        "CONTEXT_SIZE = 2  # 2 words to the left, 2 to the right\n",
        "raw_text = \"\"\"We are about to study the idea of a computational process.\n",
        "Computational processes are abstract beings that inhabit computers.\n",
        "As they evolve, processes manipulate other abstract things called data.\n",
        "The evolution of a process is directed by a pattern of rules\n",
        "called a program. People create programs to direct processes. In effect,\n",
        "we conjure the spirits of the computer with our spells.\"\"\".split()\n",
        "\n",
        "# By deriving a set from `raw_text`, we deduplicate the array\n",
        "vocab = set(raw_text)\n",
        "vocab_size = len(vocab)\n",
        "\n",
        "word_to_ix = {word: i for i, word in enumerate(vocab)}\n",
        "data = []\n",
        "for i in range(CONTEXT_SIZE, len(raw_text) - CONTEXT_SIZE):\n",
        "    context = (\n",
        "        [raw_text[i - j - 1] for j in range(CONTEXT_SIZE)]\n",
        "        + [raw_text[i + j + 1] for j in range(CONTEXT_SIZE)]\n",
        "    )\n",
        "    target = raw_text[i]\n",
        "    data.append((context, target))\n",
        "print(data[:5])"
      ],
      "metadata": {
        "colab": {
          "base_uri": "https://localhost:8080/"
        },
        "id": "iTNQCKSsTAYs",
        "outputId": "c14a3bd2-5e90-45f1-e8d5-7a6a8bbc0ffe"
      },
      "execution_count": 13,
      "outputs": [
        {
          "output_type": "stream",
          "name": "stdout",
          "text": [
            "[(['are', 'We', 'to', 'study'], 'about'), (['about', 'are', 'study', 'the'], 'to'), (['to', 'about', 'the', 'idea'], 'study'), (['study', 'to', 'idea', 'of'], 'the'), (['the', 'study', 'of', 'a'], 'idea')]\n"
          ]
        }
      ]
    },
    {
      "cell_type": "code",
      "source": [
        "def make_context_vector(context, word_to_ix):\n",
        "    idxs = [word_to_ix[w] for w in context]\n",
        "    return torch.tensor(idxs, dtype=torch.long)\n",
        "\n",
        "\n",
        "make_context_vector(data[0][0], word_to_ix).view((1,-1)).shape"
      ],
      "metadata": {
        "colab": {
          "base_uri": "https://localhost:8080/"
        },
        "id": "s3dOjaGkcHWo",
        "outputId": "5d4eeceb-c22e-4ad0-a080-1c3709093900"
      },
      "execution_count": 20,
      "outputs": [
        {
          "output_type": "execute_result",
          "data": {
            "text/plain": [
              "torch.Size([1, 4])"
            ]
          },
          "metadata": {},
          "execution_count": 20
        }
      ]
    },
    {
      "cell_type": "code",
      "source": [
        "losses=[]\n",
        "class CBOW(nn.Module):\n",
        "\n",
        "    def __init__(self, voc_size, embedding_dim):\n",
        "      super(CBOW, self).__init__()\n",
        "      self.embedding=nn.Embedding(vocab_size, embedding_dim)\n",
        "      self.linear1=nn.Linear(embedding_dim, vocab_size)\n",
        "\n",
        "\n",
        "    def forward(self, inputs):\n",
        "      lookup_embed =self.embedding(inputs)  #[4, 10 ]\n",
        "      sum_embed=lookup_embed.sum(dim=0) #[1, 10]\n",
        "      out =self.linear1(sum_embed)  #[1, 49]\n",
        "      log_probs = F.log_softmax(out.view((1,-1)), dim=1)\n",
        "      return log_probs\n",
        "\n",
        "\n",
        "def make_context_vector(context, word_to_ix):\n",
        "    idxs = [word_to_ix[w] for w in context]\n",
        "    return torch.tensor(idxs, dtype=torch.long)\n",
        "\n",
        "\n",
        "\n",
        "model_1 = CBOW(vocab_size, EMBEDDING_DIM)\n",
        "loss_function = nn.NLLLoss()  # use negative log likelihood for loss for C classes classification\n",
        "optimizer = optim.SGD(model_1.parameters(), lr=0.001)\n",
        "for epoch in range(10):\n",
        "    total_loss = 0\n",
        "    for context, target in data:\n",
        "      #word to id\n",
        "      context_idxs=make_context_vector(context, word_to_ix)  #\n",
        "\n",
        "      model_1.zero_grad()\n",
        "      # run the forward pass\n",
        "      log_probs=model_1(context_idxs)\n",
        "      #calculate loss\n",
        "      loss=loss_function(log_probs, torch.tensor([word_to_ix[target]], dtype=torch.long))\n",
        "      #backward pass\n",
        "      loss.backward()\n",
        "      optimizer.step()\n",
        "\n",
        "      #accumlate loss\n",
        "      total_loss+=loss.item()\n",
        "    losses.append(total_loss)"
      ],
      "metadata": {
        "id": "LXSpSmvYT3Zc"
      },
      "execution_count": 53,
      "outputs": []
    },
    {
      "cell_type": "code",
      "source": [
        "print(losses)"
      ],
      "metadata": {
        "colab": {
          "base_uri": "https://localhost:8080/"
        },
        "id": "58fAXC3ds83P",
        "outputId": "b7ae1f73-24a3-4988-cb60-533ec38ec421"
      },
      "execution_count": 54,
      "outputs": [
        {
          "output_type": "stream",
          "name": "stdout",
          "text": [
            "[256.8255398273468, 254.13644981384277, 251.492959856987, 248.8937953710556, 246.3377504348755, 243.8236985206604, 241.3505585193634, 238.91731667518616, 236.52300465106964, 234.16668152809143]\n"
          ]
        }
      ]
    },
    {
      "cell_type": "code",
      "source": [
        "model_1"
      ],
      "metadata": {
        "colab": {
          "base_uri": "https://localhost:8080/"
        },
        "id": "34AMuuWKsc2y",
        "outputId": "e00ed372-87bd-4ba4-d85f-00e0e19d6cee"
      },
      "execution_count": 56,
      "outputs": [
        {
          "output_type": "execute_result",
          "data": {
            "text/plain": [
              "CBOW(\n",
              "  (embedding): Embedding(49, 10)\n",
              "  (linear1): Linear(in_features=10, out_features=49, bias=True)\n",
              ")"
            ]
          },
          "metadata": {},
          "execution_count": 56
        }
      ]
    },
    {
      "cell_type": "code",
      "source": [
        "model_1.embedding.weight[word_to_ix[\"computer\"]]"
      ],
      "metadata": {
        "colab": {
          "base_uri": "https://localhost:8080/"
        },
        "id": "df02BTY1gRLN",
        "outputId": "49cb46f0-8da2-4e80-f3fd-203a92bb8e24"
      },
      "execution_count": 57,
      "outputs": [
        {
          "output_type": "execute_result",
          "data": {
            "text/plain": [
              "tensor([-0.8262,  0.9923,  0.0312,  0.2740, -0.7022,  0.6615, -0.6166,  0.2628,\n",
              "         1.6284, -0.1836], grad_fn=<SelectBackward0>)"
            ]
          },
          "metadata": {},
          "execution_count": 57
        }
      ]
    }
  ]
}